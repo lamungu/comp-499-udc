{
 "cells": [
  {
   "attachments": {},
   "cell_type": "markdown",
   "metadata": {},
   "source": [
    "# Introduction\n",
    "\n",
    "Here we should start talking about the advancement of AI in text. It made quite some advancements with the inclusion of Large Language Models (LLM), such as Microsoft T5, Google's BERT and OpenAI's GPT in the field of Natural Language Processing (NLP). While it has made a leap, considerable efforts were made from predecessors, such as with RNNs, LSTM and Transformer. \n",
    "\n",
    "In this project, we will be covering these approaches while exploring the Ubuntu Dialogue Corpus [Citation] and training an End-to-End dialogue system.   "
   ]
  },
  {
   "attachments": {},
   "cell_type": "markdown",
   "metadata": {},
   "source": [
    "# Dataset\n",
    "\n",
    "## Ubuntu Dialogue Corpus\n",
    "\n",
    "Created by Ryan Lowe, The Ubuntu Dialogue Dataset was created from a compilation of over 1.3 million dialogues out of an IRC chat between users and support agents. The conversations are considered dyadic, meaning they typically happen between two people. As well, there are other things that are important like the fact that the chats are mixed in together. \n",
    "\n",
    "The process to create the dataset was to primarily untangle the conversation such that one set of utterances deal with one topic\n",
    "\n",
    "## Training Dataset\n",
    "\n",
    "The training dataset has three fields: context, representing the ..., response, which is the ..., and label that shows whether the response is contextual to the previous utterances. The non-contextual samples are sampled out of the other utterances in the dataset.\n",
    "\n",
    "Talk about Next Utterance Classification (NUC)\n",
    "\n",
    "The dataset is evaluated using Binary Cross Entropy\n",
    "\n",
    "## Test Dataset\n",
    "\n",
    "The validation and test dataset have 11 columns: 1 for the context, one for the ground truth utterance and 9 other responses considered distractions\n",
    "\n",
    "The validation and test is evaluated using Recall@k\n",
    "\n",
    "\n"
   ]
  }
 ],
 "metadata": {
  "language_info": {
   "name": "python"
  },
  "orig_nbformat": 4
 },
 "nbformat": 4,
 "nbformat_minor": 2
}
