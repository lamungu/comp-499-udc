{
 "cells": [
  {
   "attachments": {},
   "cell_type": "markdown",
   "metadata": {},
   "source": [
    "# Project 2: End-to-End Dialogue with the Ubuntu Dialogue Corpus\n",
    "\n",
    "This project aims to create a task-oriented, multi-turn dialogue system using the popular Ubuntu Dialogue Corpus. The corpus contains dialogues from an ubuntu support chat.\n",
    "\n",
    "The proposed plan is as follows:\n",
    "\n",
    "1. Conduct a literature review on end-to-end dialogue systems, specifically focusing on previous approaches with this dataset. Make sure to understand the way performance is measured and rank the performance achieved by each system.\n",
    "2. Implement a simple baseline in SpeechBrain using an LSTM-based encoder-decoder architecture with attention, without considering dialogue context.\n",
    "3. Enhance the previous architecture to incorporate the dialogue history, using a self-attention mechanism to summarize previous inputs, or alternative attention methods that have access to the whole history. For instance, you can consider this approach.\n",
    "4. Compare the performance of a transformer-based model to that of the LSTM-based model.\n",
    "5. Create a SpeechBrain inference function to allow users to use the best-pretrained model, which will be made available on HuggingFace.\n",
    "6. As an optional step, connect the best dialogue system with SpeechBrain's pretrained speech recognizers (e.g, whisper or wav2vect) and speech synthesis models (e.g, Tacotron) to test the pipeline.\n",
    "\n",
    "At the end of the project, the code will be included in a PR for the main SpeechBrain project. The best model will be made available on the SpeechBrain HF repository with the designed inference interface. Note that this project is computationally demanding and requires access to GPUs for the duration.\n",
    " \n"
   ]
  },
  {
   "attachments": {},
   "cell_type": "markdown",
   "metadata": {},
   "source": [
    "## 1. Literature Review\n",
    "\n",
    "Enter any reference links to papers related to end-to-end dialogue systems. It is pointed out to look at previous approaches with this dataset.\n",
    "\n",
    "### Original Paper\n",
    "\n",
    "- [The Ubuntu Dialogue Corpus: A Large Dataset for Research in Unstructured Multi-Turn Dialogue Systems](https://arxiv.org/pdf/1506.08909.pdf)\n",
    "\n",
    "\n",
    "### Previous Approaches\n",
    "- [Training End-to-End Dialogue Systems with the\n",
    "Ubuntu Dialogue Corpus (Original Approach)](https://www.cs.toronto.edu/~lcharlin/papers/ubuntu_dialogue_dd17.pdf)\n",
    "- [Speaker-Aware BERT for Multi-Turn Response Selection in\n",
    "Retrieval-Based Chatbots](https://arxiv.org/pdf/2004.03588.pdf)\n",
    "- [An Effective Domain Adaptive Post-Training Method for BERT in Response Selection](https://arxiv.org/pdf/1908.04812.pdf)\n",
    "- [An Adversarial Learning Framework For A Persona-Based Multi-Turn Dialogue Model](https://aclanthology.org/W19-2301.pdf)"
   ]
  }
 ],
 "metadata": {
  "kernelspec": {
   "display_name": "Python 3",
   "language": "python",
   "name": "python3"
  },
  "language_info": {
   "name": "python",
   "version": "3.10.6"
  },
  "orig_nbformat": 4,
  "vscode": {
   "interpreter": {
    "hash": "57bd74a76a90a4e2df6363c9754e5adaf67dd4e19c959f85ec001117b5bc7e97"
   }
  }
 },
 "nbformat": 4,
 "nbformat_minor": 2
}
